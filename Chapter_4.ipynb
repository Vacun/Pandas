{
 "cells": [
  {
   "cell_type": "markdown",
   "metadata": {},
   "source": [
    "## 4.3 Unique and other Set Logics"
   ]
  },
  {
   "cell_type": "code",
   "execution_count": 2,
   "metadata": {},
   "outputs": [],
   "source": [
    "import numpy as np"
   ]
  },
  {
   "cell_type": "code",
   "execution_count": 3,
   "metadata": {},
   "outputs": [
    {
     "data": {
      "text/plain": [
       "array([False, False,  True, False,  True, False, False, False, False,  True], dtype=bool)"
      ]
     },
     "execution_count": 3,
     "metadata": {},
     "output_type": "execute_result"
    }
   ],
   "source": [
    "arr_1 = np.arange(10)\n",
    "arr_2 = [2,4,9]\n",
    "np.in1d(arr_1, arr_2)"
   ]
  },
  {
   "cell_type": "code",
   "execution_count": 4,
   "metadata": {},
   "outputs": [
    {
     "data": {
      "text/plain": [
       "array([False,  True, False, False,  True, False, False, False, False, False], dtype=bool)"
      ]
     },
     "execution_count": 4,
     "metadata": {},
     "output_type": "execute_result"
    }
   ],
   "source": [
    "arr_3 = np.array([1,4,123])\n",
    "np.in1d(arr_1,arr_3)"
   ]
  },
  {
   "cell_type": "code",
   "execution_count": 5,
   "metadata": {},
   "outputs": [
    {
     "data": {
      "text/plain": [
       "array([0, 2, 3, 5, 6, 7, 8, 9])"
      ]
     },
     "execution_count": 5,
     "metadata": {},
     "output_type": "execute_result"
    }
   ],
   "source": [
    "np.setdiff1d(arr_1,arr_3)"
   ]
  },
  {
   "cell_type": "code",
   "execution_count": 6,
   "metadata": {},
   "outputs": [
    {
     "data": {
      "text/plain": [
       "array([1, 4])"
      ]
     },
     "execution_count": 6,
     "metadata": {},
     "output_type": "execute_result"
    }
   ],
   "source": [
    "np.intersect1d(arr_1,arr_3)"
   ]
  },
  {
   "cell_type": "code",
   "execution_count": 7,
   "metadata": {},
   "outputs": [
    {
     "data": {
      "text/plain": [
       "array([  0,   2,   3,   5,   6,   7,   8,   9, 123])"
      ]
     },
     "execution_count": 7,
     "metadata": {},
     "output_type": "execute_result"
    }
   ],
   "source": [
    "np.setxor1d(arr_1,arr_3)"
   ]
  },
  {
   "cell_type": "markdown",
   "metadata": {},
   "source": [
    "## 4.4 File Input and Output with Arrays"
   ]
  },
  {
   "cell_type": "code",
   "execution_count": 8,
   "metadata": {},
   "outputs": [],
   "source": [
    "arr = np.arange(100)"
   ]
  },
  {
   "cell_type": "code",
   "execution_count": 9,
   "metadata": {},
   "outputs": [],
   "source": [
    "np.save('my_array_saved',arr)"
   ]
  },
  {
   "cell_type": "code",
   "execution_count": 10,
   "metadata": {},
   "outputs": [
    {
     "data": {
      "text/plain": [
       "array([ 0,  1,  2,  3,  4,  5,  6,  7,  8,  9, 10, 11, 12, 13, 14, 15, 16,\n",
       "       17, 18, 19, 20, 21, 22, 23, 24, 25, 26, 27, 28, 29, 30, 31, 32, 33,\n",
       "       34, 35, 36, 37, 38, 39, 40, 41, 42, 43, 44, 45, 46, 47, 48, 49, 50,\n",
       "       51, 52, 53, 54, 55, 56, 57, 58, 59, 60, 61, 62, 63, 64, 65, 66, 67,\n",
       "       68, 69, 70, 71, 72, 73, 74, 75, 76, 77, 78, 79, 80, 81, 82, 83, 84,\n",
       "       85, 86, 87, 88, 89, 90, 91, 92, 93, 94, 95, 96, 97, 98, 99])"
      ]
     },
     "execution_count": 10,
     "metadata": {},
     "output_type": "execute_result"
    }
   ],
   "source": [
    "np.load('my_array_saved.npy')"
   ]
  },
  {
   "cell_type": "markdown",
   "metadata": {},
   "source": [
    "#### Passing multiple arrays"
   ]
  },
  {
   "cell_type": "code",
   "execution_count": 11,
   "metadata": {},
   "outputs": [],
   "source": [
    "np.savez('array_archive', a = arr, b = arr)"
   ]
  },
  {
   "cell_type": "markdown",
   "metadata": {},
   "source": [
    "to load it, assign it to a variable and unpack it"
   ]
  },
  {
   "cell_type": "code",
   "execution_count": 12,
   "metadata": {},
   "outputs": [],
   "source": [
    "arch = np.load('array_archive.npz')"
   ]
  },
  {
   "cell_type": "code",
   "execution_count": 13,
   "metadata": {},
   "outputs": [
    {
     "data": {
      "text/plain": [
       "['a', 'b']"
      ]
     },
     "execution_count": 13,
     "metadata": {},
     "output_type": "execute_result"
    }
   ],
   "source": [
    "[i for i in arch]\n"
   ]
  },
  {
   "cell_type": "code",
   "execution_count": 14,
   "metadata": {},
   "outputs": [
    {
     "data": {
      "text/plain": [
       "array([ 0,  1,  2,  3,  4,  5,  6,  7,  8,  9, 10, 11, 12, 13, 14, 15, 16,\n",
       "       17, 18, 19, 20, 21, 22, 23, 24, 25, 26, 27, 28, 29, 30, 31, 32, 33,\n",
       "       34, 35, 36, 37, 38, 39, 40, 41, 42, 43, 44, 45, 46, 47, 48, 49, 50,\n",
       "       51, 52, 53, 54, 55, 56, 57, 58, 59, 60, 61, 62, 63, 64, 65, 66, 67,\n",
       "       68, 69, 70, 71, 72, 73, 74, 75, 76, 77, 78, 79, 80, 81, 82, 83, 84,\n",
       "       85, 86, 87, 88, 89, 90, 91, 92, 93, 94, 95, 96, 97, 98, 99])"
      ]
     },
     "execution_count": 14,
     "metadata": {},
     "output_type": "execute_result"
    }
   ],
   "source": [
    "arch['b']"
   ]
  },
  {
   "cell_type": "code",
   "execution_count": 15,
   "metadata": {},
   "outputs": [],
   "source": [
    "a1,a2 = arch['a'],arch['b']"
   ]
  },
  {
   "cell_type": "code",
   "execution_count": 16,
   "metadata": {},
   "outputs": [
    {
     "data": {
      "text/plain": [
       "array([ 0,  1,  2,  3,  4,  5,  6,  7,  8,  9, 10, 11, 12, 13, 14, 15, 16,\n",
       "       17, 18, 19, 20, 21, 22, 23, 24, 25, 26, 27, 28, 29, 30, 31, 32, 33,\n",
       "       34, 35, 36, 37, 38, 39, 40, 41, 42, 43, 44, 45, 46, 47, 48, 49, 50,\n",
       "       51, 52, 53, 54, 55, 56, 57, 58, 59, 60, 61, 62, 63, 64, 65, 66, 67,\n",
       "       68, 69, 70, 71, 72, 73, 74, 75, 76, 77, 78, 79, 80, 81, 82, 83, 84,\n",
       "       85, 86, 87, 88, 89, 90, 91, 92, 93, 94, 95, 96, 97, 98, 99])"
      ]
     },
     "execution_count": 16,
     "metadata": {},
     "output_type": "execute_result"
    }
   ],
   "source": [
    "a1"
   ]
  },
  {
   "cell_type": "markdown",
   "metadata": {},
   "source": [
    "## Random Walk"
   ]
  },
  {
   "cell_type": "code",
   "execution_count": 17,
   "metadata": {},
   "outputs": [],
   "source": [
    "import random"
   ]
  },
  {
   "cell_type": "code",
   "execution_count": 18,
   "metadata": {},
   "outputs": [],
   "source": [
    "position = 0\n",
    "walk = [position]\n",
    "steps = 10\n",
    "\n",
    "for i in range(steps):\n",
    "    step = 1 if random.randint(0,1) else -1\n",
    "    position +=step\n",
    "    walk.append(position)"
   ]
  },
  {
   "cell_type": "code",
   "execution_count": 19,
   "metadata": {},
   "outputs": [
    {
     "data": {
      "text/plain": [
       "2"
      ]
     },
     "execution_count": 19,
     "metadata": {},
     "output_type": "execute_result"
    }
   ],
   "source": [
    "position"
   ]
  },
  {
   "cell_type": "code",
   "execution_count": 20,
   "metadata": {},
   "outputs": [
    {
     "data": {
      "text/plain": [
       "[0, 1, 2, 1, 0, -1, 0, 1, 2, 1, 2]"
      ]
     },
     "execution_count": 20,
     "metadata": {},
     "output_type": "execute_result"
    }
   ],
   "source": [
    "walk"
   ]
  },
  {
   "cell_type": "code",
   "execution_count": 21,
   "metadata": {},
   "outputs": [],
   "source": [
    "draws = np.random.randint(0,2,size = 100)"
   ]
  },
  {
   "cell_type": "code",
   "execution_count": 22,
   "metadata": {},
   "outputs": [],
   "source": [
    "steps = np.where(draws == 0,-1,1)"
   ]
  },
  {
   "cell_type": "code",
   "execution_count": 23,
   "metadata": {},
   "outputs": [
    {
     "data": {
      "text/plain": [
       "array([ 1,  1,  1,  1,  1, -1,  1, -1, -1,  1, -1, -1,  1, -1, -1, -1, -1,\n",
       "       -1, -1, -1, -1, -1, -1, -1, -1, -1,  1,  1, -1,  1, -1, -1, -1, -1,\n",
       "       -1,  1, -1, -1,  1,  1, -1,  1,  1, -1,  1,  1,  1,  1,  1, -1,  1,\n",
       "        1, -1,  1,  1, -1,  1, -1,  1,  1, -1, -1, -1, -1, -1,  1,  1,  1,\n",
       "       -1, -1, -1,  1, -1,  1,  1, -1,  1, -1,  1,  1,  1,  1,  1, -1,  1,\n",
       "        1,  1, -1,  1,  1, -1,  1, -1, -1,  1, -1,  1,  1, -1,  1])"
      ]
     },
     "execution_count": 23,
     "metadata": {},
     "output_type": "execute_result"
    }
   ],
   "source": [
    "steps"
   ]
  },
  {
   "cell_type": "code",
   "execution_count": 24,
   "metadata": {},
   "outputs": [],
   "source": [
    "walk = steps.cumsum()"
   ]
  },
  {
   "cell_type": "code",
   "execution_count": 25,
   "metadata": {},
   "outputs": [
    {
     "data": {
      "text/plain": [
       "0"
      ]
     },
     "execution_count": 25,
     "metadata": {},
     "output_type": "execute_result"
    }
   ],
   "source": [
    "(walk>=10).argmax()"
   ]
  },
  {
   "cell_type": "code",
   "execution_count": 26,
   "metadata": {},
   "outputs": [
    {
     "data": {
      "text/plain": [
       "0"
      ]
     },
     "execution_count": 26,
     "metadata": {},
     "output_type": "execute_result"
    }
   ],
   "source": [
    "(walk>=10).argmin()"
   ]
  },
  {
   "cell_type": "markdown",
   "metadata": {},
   "source": [
    "## Simulating several walks"
   ]
  },
  {
   "cell_type": "code",
   "execution_count": 27,
   "metadata": {},
   "outputs": [],
   "source": [
    "nwalks = 5000\n",
    "nsteps = 1000\n",
    "\n",
    "draws = np.random.randint(0,2,size=(nwalks,nsteps))\n",
    "steps = np.where(draws>0,1,-1)\n",
    "walks = steps.cumsum(1)"
   ]
  },
  {
   "cell_type": "code",
   "execution_count": 28,
   "metadata": {},
   "outputs": [
    {
     "data": {
      "text/plain": [
       "array([[  1,   2,   3, ...,  44,  43,  42],\n",
       "       [  1,   0,   1, ...,  28,  27,  28],\n",
       "       [  1,   2,   3, ..., -28, -29, -30],\n",
       "       ..., \n",
       "       [  1,   0,  -1, ..., -48, -49, -50],\n",
       "       [ -1,   0,  -1, ..., -12, -11, -10],\n",
       "       [ -1,  -2,  -1, ..., -12, -13, -12]])"
      ]
     },
     "execution_count": 28,
     "metadata": {},
     "output_type": "execute_result"
    }
   ],
   "source": [
    "walks"
   ]
  },
  {
   "cell_type": "code",
   "execution_count": 29,
   "metadata": {},
   "outputs": [
    {
     "data": {
      "text/plain": [
       "113"
      ]
     },
     "execution_count": 29,
     "metadata": {},
     "output_type": "execute_result"
    }
   ],
   "source": [
    "walks.max()"
   ]
  },
  {
   "cell_type": "code",
   "execution_count": 30,
   "metadata": {},
   "outputs": [
    {
     "data": {
      "text/plain": [
       "array([47, 53,  7, ...,  5,  8,  1])"
      ]
     },
     "execution_count": 30,
     "metadata": {},
     "output_type": "execute_result"
    }
   ],
   "source": [
    "walks.max(1)"
   ]
  },
  {
   "cell_type": "code",
   "execution_count": 32,
   "metadata": {},
   "outputs": [
    {
     "data": {
      "text/plain": [
       "array([  1,   2,   3,   4,   5,   6,   7,   8,   9,  10,  11,  10,  11,\n",
       "        12,  13,  14,  13,  14,  15,  16,  17,  16,  17,  16,  17,  18,\n",
       "        17,  18,  17,  18,  19,  18,  19,  20,  19,  20,  21,  22,  21,\n",
       "        22,  21,  22,  21,  20,  21,  22,  23,  22,  23,  22,  23,  24,\n",
       "        25,  26,  27,  26,  25,  24,  25,  26,  25,  26,  27,  28,  29,\n",
       "        30,  29,  28,  27,  28,  27,  28,  29,  28,  29,  30,  29,  30,\n",
       "        31,  30,  31,  30,  31,  32,  33,  34,  33,  34,  33,  34,  33,\n",
       "        34,  35,  34,  35,  34,  35,  34,  33,  34,  35,  34,  35,  36,\n",
       "        35,  34,  35,  36,  37,  36,  37,  36,  37,  38,  39,  40,  41,\n",
       "        40,  41,  42,  41,  42,  41,  40,  41,  42,  43,  44,  43,  44,\n",
       "        45,  46,  45,  44,  43,  44,  43,  42,  43,  44,  45,  44,  45,\n",
       "        46,  47,  48,  47,  48,  49,  48,  49,  48,  49,  50,  51,  50,\n",
       "        49,  50,  51,  50,  51,  52,  53,  54,  55,  56,  57,  58,  59,\n",
       "        58,  59,  58,  57,  56,  57,  58,  59,  58,  59,  58,  57,  58,\n",
       "        57,  58,  59,  60,  59,  58,  57,  56,  57,  56,  57,  58,  59,\n",
       "        58,  59,  58,  57,  58,  57,  58,  59,  58,  57,  58,  59,  60,\n",
       "        59,  58,  59,  58,  57,  58,  57,  58,  57,  56,  57,  58,  57,\n",
       "        58,  59,  58,  59,  60,  61,  60,  61,  62,  61,  62,  61,  62,\n",
       "        61,  62,  63,  62,  61,  62,  63,  64,  63,  64,  63,  62,  63,\n",
       "        62,  63,  64,  63,  62,  63,  64,  65,  66,  65,  64,  65,  66,\n",
       "        67,  68,  69,  68,  69,  68,  67,  68,  69,  70,  69,  68,  67,\n",
       "        68,  67,  66,  65,  64,  65,  64,  65,  64,  63,  62,  61,  60,\n",
       "        61,  60,  59,  60,  59,  60,  61,  60,  59,  60,  61,  60,  61,\n",
       "        62,  61,  62,  63,  64,  63,  64,  65,  64,  63,  64,  65,  66,\n",
       "        67,  68,  69,  70,  69,  70,  69,  70,  69,  68,  67,  68,  69,\n",
       "        70,  71,  72,  71,  70,  71,  70,  71,  70,  71,  70,  71,  70,\n",
       "        71,  70,  71,  70,  69,  70,  69,  70,  71,  72,  73,  72,  71,\n",
       "        72,  71,  72,  71,  70,  71,  72,  73,  74,  75,  74,  73,  72,\n",
       "        71,  70,  71,  72,  71,  70,  69,  70,  69,  70,  69,  70,  71,\n",
       "        70,  69,  70,  71,  70,  71,  72,  73,  74,  73,  74,  75,  76,\n",
       "        77,  76,  77,  76,  77,  76,  75,  76,  77,  76,  75,  76,  77,\n",
       "        76,  77,  78,  77,  76,  77,  78,  79,  78,  79,  80,  79,  78,\n",
       "        79,  78,  79,  80,  81,  80,  79,  80,  81,  82,  81,  82,  81,\n",
       "        80,  79,  80,  79,  78,  79,  80,  81,  82,  83,  82,  83,  84,\n",
       "        85,  86,  85,  84,  85,  86,  87,  86,  85,  86,  87,  88,  87,\n",
       "        88,  87,  86,  85,  86,  87,  86,  85,  84,  85,  84,  85,  86,\n",
       "        85,  86,  87,  88,  87,  88,  89,  88,  87,  88,  87,  88,  89,\n",
       "        90,  91,  92,  93,  92,  91,  92,  91,  90,  91,  92,  93,  92,\n",
       "        91,  92,  93,  92,  91,  92,  93,  92,  91,  90,  91,  92,  93,\n",
       "        94,  95,  94,  95,  94,  95,  96,  95,  96,  95,  96,  97,  98,\n",
       "        99,  98,  99, 100, 101, 100,  99,  98,  97,  98,  99, 100,  99,\n",
       "        98,  97,  96,  97,  98,  99, 100, 101, 100,  99, 100,  99,  98,\n",
       "        97,  96,  95,  94,  95,  94,  93,  94,  95,  96,  95,  94,  95,\n",
       "        96,  97,  98,  99,  98,  97,  98,  99, 100, 101, 102, 103, 104,\n",
       "       105, 106, 105, 104, 103, 104, 103, 102, 101, 100,  99, 100,  99,\n",
       "       100, 101, 100, 101, 100, 101, 102, 101, 102, 101, 102, 101, 100,\n",
       "        99, 100, 101, 102, 103, 104, 103, 102, 103, 102, 101, 102, 101,\n",
       "       100,  99, 100, 101, 102, 103, 104, 103, 104, 105, 106, 105, 104,\n",
       "       105, 106, 105, 104, 103, 102, 101, 102, 101, 100, 101, 100,  99,\n",
       "       100,  99, 100, 101, 102, 101, 102, 103, 102, 103, 102, 101, 102,\n",
       "       103, 102, 103, 104, 105, 106, 107, 106, 105, 106, 105, 104, 103,\n",
       "       104, 103, 102, 101, 100, 101, 100,  99, 100, 101, 100, 101, 100,\n",
       "       101, 102, 101, 100,  99, 100, 101, 102, 101, 102, 101, 102, 101,\n",
       "       102, 101, 100,  99,  98,  97,  96,  97,  98,  99,  98,  99, 100,\n",
       "       101, 102, 103, 102, 103, 102, 103, 104, 103, 104, 103, 102, 101,\n",
       "       100,  99, 100,  99, 100,  99, 100,  99, 100, 101, 100,  99, 100,\n",
       "       101, 102, 101, 100,  99, 100,  99,  98,  97,  98,  99,  98,  97,\n",
       "        96,  95,  96,  95,  96,  97,  96,  95,  96,  97,  96,  95,  94,\n",
       "        95,  94,  95,  96,  95,  94,  95,  96,  95,  94,  95,  94,  93,\n",
       "        94,  93,  94,  95,  94,  95,  94,  93,  92,  93,  94,  95,  94,\n",
       "        95,  94,  95,  94,  93,  94,  95,  94,  95,  96,  97,  96,  95,\n",
       "        96,  97,  98,  99, 100, 101, 100, 101, 100, 101, 102, 103, 102,\n",
       "       103, 104, 103, 102, 101, 102, 103, 104, 105, 106, 105, 106, 107,\n",
       "       108, 109, 108, 109, 108, 109, 108, 107, 106, 107, 108, 107, 106,\n",
       "       107, 106, 105, 106, 107, 108, 109, 110, 109, 108, 107, 106, 105,\n",
       "       104, 105, 104, 103, 104, 105, 106, 107, 108, 107, 108, 107, 106,\n",
       "       107, 106, 107, 106, 107, 106, 105, 104, 103, 102, 103, 104, 105,\n",
       "       106, 107, 108, 109, 110, 111, 110, 109, 108, 107, 106, 107, 106,\n",
       "       107, 108, 109, 110, 111, 110, 109, 108, 107, 108, 107, 108, 109,\n",
       "       108, 107, 106, 107, 106, 105, 104, 103, 104, 105, 106, 107, 106,\n",
       "       105, 104, 105, 104, 103, 104, 105, 106, 105, 106, 107, 108, 109,\n",
       "       110, 109, 108, 107, 106, 105, 104, 105, 106, 107, 106, 105, 106,\n",
       "       107, 108, 107, 106, 105, 106, 107, 108, 109, 110, 109, 108, 109,\n",
       "       108, 109, 110, 109, 108, 109, 110, 109, 110, 111, 112, 113, 112,\n",
       "       113, 112, 113, 112, 111, 110, 109, 108, 107, 106, 107, 106, 107,\n",
       "       108, 107, 108, 109, 110, 109, 108, 109, 108, 107, 108, 109, 110,\n",
       "       109, 108, 109, 110, 109, 108, 107, 108, 107, 106, 107, 108])"
      ]
     },
     "execution_count": 32,
     "metadata": {},
     "output_type": "execute_result"
    }
   ],
   "source": [
    "walks.max(0)"
   ]
  },
  {
   "cell_type": "code",
   "execution_count": null,
   "metadata": {},
   "outputs": [],
   "source": []
  }
 ],
 "metadata": {
  "kernelspec": {
   "display_name": "Python 3",
   "language": "python",
   "name": "python3"
  },
  "language_info": {
   "codemirror_mode": {
    "name": "ipython",
    "version": 3
   },
   "file_extension": ".py",
   "mimetype": "text/x-python",
   "name": "python",
   "nbconvert_exporter": "python",
   "pygments_lexer": "ipython3",
   "version": "3.6.3"
  }
 },
 "nbformat": 4,
 "nbformat_minor": 2
}
